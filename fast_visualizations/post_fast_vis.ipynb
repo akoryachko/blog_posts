{
 "cells": [
  {
   "attachments": {},
   "cell_type": "markdown",
   "metadata": {},
   "source": [
    "# How to save time on data visualization"
   ]
  },
  {
   "attachments": {},
   "cell_type": "markdown",
   "metadata": {},
   "source": [
    "A picture is worth a thousand words. Good visualizations speak for themselves allowing to save the expensive stakeholders' time while presenting a data project. By saving his own while time preparing the graphs a data professional wastes time and attention of his audience on explanations rather than using it to talk about the impliocations. Though tempting, such tradeoff can push a decision on a critical project by weeks or months.\n",
    "\n",
    "\n",
    "In this blog, I will share the pieces of code that make visualizations easier to read and approaches for saving time while putting the corresponding code together. The material is intended for the Data Scientists who spend significant time exploring the data and using the results to help stakeholders make business decisions. The teck stack will be limited to using Python's standard visualization library in a Jupyter notebook."
   ]
  },
  {
   "attachments": {},
   "cell_type": "markdown",
   "metadata": {},
   "source": [
    "## The last mile problem\n",
    "Python community owns a number of powerful visualization libraries.\n",
    "<a href=\"https://seaborn.pydata.org/\">Seaborn</a>, <a href=\"https://plotly.com/\">Plotly</a>, <a href=\"https://altair-viz.github.io/\">Altair</a>, <a href=\"https://www.pygal.org\">Pygal</a>, and <a href=\"https://plotnine.readthedocs.io/\">Plotnine</a> are among the many others.\n",
    "I get very excited reading about their capabilities. However, the resulting plot still needs fine tuning no matter how sophisticated the visualization function is. This last mile from a flashy picture to an informative graph requires the most effort. Say, I found a function from a fancy library that fits perfectly to my data and renders the following plot that I saw in <a href=\"https://medium.com/@jordan.johnson_35348/is-ruby-on-rails-on-the-next-train-out-cc580d9d0f14\">this article</a>:\n",
    "<div>\n",
    "<img src=\"pics/flashy_plot.jpeg\" width=\"400\"/>\n",
    "</div>\n",
    "Looks slick, but I will have to use words to explain what was measured for each of the programming languages. Adding and x label or writing a title is typically possible but require a dive into documentation of that specific library. Next time when the data fit better to a function from a different library I will have to dive again. Not impossible but tedious.\n",
    "\n",
    "Instead, I want concentrate on the tricks that cover the last mile using the standard `matplotlib` library. There are two reasons for that:\n",
    "<ol>\n",
    "  <li> <b>Inheritance</b>. Some visualization libraries like Seaborn use <code>matplotlib</code> as a backbone. This means that the generated image can then be finished off in the same way as if it was generated with the standard library itself.\n",
    "  </li>\n",
    "  <li> <b>Sufficiency</b>. The standard plotting library provides the majority of the required functionality. The result might not be as flashy or interactive but has all the means for bringing the point across efficiently. For example, the above visualization can be delivered with the standard library in the way shown below.\n",
    "  </li>\n",
    "</ol>"
   ]
  },
  {
   "cell_type": "code",
   "execution_count": null,
   "metadata": {},
   "outputs": [],
   "source": [
    "import matplotlib.pyplot as plt\n",
    "\n",
    "programming_languages = ('JavaScript',\n",
    "                         'HTML/CSS',\n",
    "                         'SQL',\n",
    "                         'Python',\n",
    "                         'TypeScript',\n",
    "                         'Node.js',\n",
    "                         'Java',\n",
    "                         'C#')\n",
    "\n",
    "past_year_use = (68.62, 55.9, 50.73, 41.53, 36.42, 36.19, 34.51, 29.81)\n",
    "\n",
    "plt.barh(programming_languages, past_year_use)"
   ]
  },
  {
   "attachments": {},
   "cell_type": "markdown",
   "metadata": {},
   "source": [
    "The bare bones plot from the standard library looks even less informative. The following section will cover how to make this plot easy to read which would add extra code to the setup. The section after that will show ways of saving time typing the same decoration commands over and over again."
   ]
  },
  {
   "attachments": {},
   "cell_type": "markdown",
   "metadata": {},
   "source": [
    "## Making plots easier to read"
   ]
  },
  {
   "attachments": {},
   "cell_type": "markdown",
   "metadata": {},
   "source": [
    "### Titles and axis\n",
    "\n",
    "The most crucial piece of information that is what is on the plot. An assumption that this might be obvious typically leads to confusion, misinterpretations, unnecessary questions, and lengthy explanations. A simple remedy would be to always label the axis and tell the readers the goal of the plot in the title.\n",
    "Say, I want bring across the point that unlike my expectations Python is not as wide spread in developers projects compared to other programming languages. Then I would set the title and the axis as follows:\n",
    "\n",
    "```python\n",
    "plt.title('Less than half developers used Python\\n'\n",
    "          'in their projects in the past year')\n",
    "plt.xlabel('Percentage of developers')\n",
    "plt.ylabel('Programming Language')\n",
    "```"
   ]
  },
  {
   "attachments": {},
   "cell_type": "markdown",
   "metadata": {},
   "source": [
    "### Figure size\n",
    "The size of the visualization should be proportional to the amount of information we want to convey. Stretching the bars across the plot of the default size will only eat up the space without adding any value like in the following example from <a href=\"https://plotnine.readthedocs.io/en/stable/generated/plotnine.geoms.geom_col.html#two-variable-bar-plot\">here</a>:\n",
    "<div>\n",
    "<img src=\"pics/thick_bars.png\" width=\"400\"/>\n",
    "</div>\n",
    "Overcrowded plots will benefit from increasing the figure size.\n",
    "\n",
    "The following piece of code placed before the plotting function will set the figure width to 5 inches and height to 3 inches:\n",
    "```python\n",
    "plt.figure(figsize = (5,3))  # set the figure size (Width, Height)\n",
    "```"
   ]
  },
  {
   "attachments": {},
   "cell_type": "markdown",
   "metadata": {},
   "source": [
    "### Grid lines\n",
    "The grid lines help perceive the differences between the values similar to how the lines on the football field help referees spot the differences between players' positions when calling offsides.\n",
    "<div>\n",
    "<img src=\"pics/offside.jpg\" width=\"400\"/>\n",
    "</div>\n",
    "\n",
    "The following line sets the grid:\n",
    "```python\n",
    "plt.grid()              # show the grid\n",
    "```\n",
    "\n",
    "However, the default behavior is that the grid shows up at the top of the plot drawing. And this is ugly. The fix requires  extracting the axis object from the plot before setting the grid below the plot:\n",
    "\n",
    "```python\n",
    "ax = plt.gca()          # get the axis from the plot\n",
    "ax.set_axisbelow(True)  # set the grid lines behind the value bars\n",
    "```"
   ]
  },
  {
   "attachments": {},
   "cell_type": "markdown",
   "metadata": {},
   "source": [
    "### Add units to the numbers\n",
    "Reading the numeric value takes two steps: reading the number from the ticks and reading the measurement unit from the label. We can cut on mental step by adding the measurement unit to the tick value. The following trick involves defining a function that takes 2 arguments (tick value and tick sequence number) to generate a replacement. That replacement is then applied it to the axis of interest (`xaxis` or `yaxis`):\n",
    "```python\n",
    "add_percentage = lambda value, tick_number: f\"{value:.0f}%\"       # function that adds % to tick value\n",
    "ax.xaxis.set_major_formatter(plt.FuncFormatter(add_percentage))   # apply the tick modifier to x axis\n",
    "```"
   ]
  },
  {
   "attachments": {},
   "cell_type": "markdown",
   "metadata": {},
   "source": [
    "The end result"
   ]
  },
  {
   "cell_type": "code",
   "execution_count": null,
   "metadata": {},
   "outputs": [],
   "source": [
    "plt.figure(figsize = (5,3))\n",
    "handle_bars = plt.barh(programming_languages, past_year_use)\n",
    "ax = plt.gca()  # get the axis from the plot\n",
    "ax.invert_yaxis()  # make bars display from top to bottom vs the default\n",
    "plt.title('Less than half developers used Python\\n'\n",
    "          'in their projects in the past year')\n",
    "plt.xlabel('Percentage of developers')\n",
    "plt.ylabel('Programming Language')\n",
    "plt.grid()  # make the grid appear\n",
    "ax.set_axisbelow(True)  # set the grid lines behind the value bars\n",
    "add_percentage = lambda value, tick_number: f\"{value:.0f}%\"       # function that adds % to tick value\n",
    "ax.xaxis.set_major_formatter(plt.FuncFormatter(add_percentage))   # apply the tick modifier to x axis\n",
    "handle_vline = plt.axvline(50, color='r')\n",
    "plt.legend([handle_bars,       handle_vline],\n",
    "           ['developers', 'majority cutoff'],\n",
    "           loc='lower right')\n",
    "# plt.savefig('box_plot.png', bbox_inches='tight', dpi=300)\n",
    "plt.show()"
   ]
  },
  {
   "cell_type": "code",
   "execution_count": null,
   "metadata": {},
   "outputs": [],
   "source": []
  }
 ],
 "metadata": {
  "kernelspec": {
   "display_name": "visual_bp",
   "language": "python",
   "name": "python3"
  },
  "language_info": {
   "codemirror_mode": {
    "name": "ipython",
    "version": 3
   },
   "file_extension": ".py",
   "mimetype": "text/x-python",
   "name": "python",
   "nbconvert_exporter": "python",
   "pygments_lexer": "ipython3",
   "version": "3.9.16"
  },
  "orig_nbformat": 4
 },
 "nbformat": 4,
 "nbformat_minor": 2
}
