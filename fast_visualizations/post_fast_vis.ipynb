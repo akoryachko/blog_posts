{
 "cells": [
  {
   "attachments": {},
   "cell_type": "markdown",
   "metadata": {},
   "source": [
    "# How to save time on data visualization"
   ]
  },
  {
   "attachments": {},
   "cell_type": "markdown",
   "metadata": {},
   "source": [
    "A picture is worth a thousand words. Good visualizations speak for themselves allowing to save the expensive stakeholders' time while presenting a data project. By saving his own while time preparing the graphs a data professional wastes time and attention of his audience on explanations rather than using it to talk about the impliocations. Though tempting, such tradeoff can push a decision on a critical project by weeks or months.\n",
    "\n",
    "\n",
    "In this blog, I will share the pieces of code that make visualizations easier to read and approaches for saving time while putting the corresponding code together. The material is intended for the Data Scientists who spend significant time exploring the data and using the results to help stakeholders make business decisions. The teck stack will be limited to using Python's standard visualization library in a Jupyter notebook."
   ]
  },
  {
   "attachments": {},
   "cell_type": "markdown",
   "metadata": {},
   "source": [
    "## The last mile problem\n",
    "Python community owns a number of powerful visualization libraries.\n",
    "<a href=\"https://seaborn.pydata.org/\">Seaborn</a>, <a href=\"https://plotly.com/\">Plotly</a>, <a href=\"https://altair-viz.github.io/\">Altair</a>, <a href=\"https://www.pygal.org\">Pygal</a>, and <a href=\"https://plotnine.readthedocs.io/\">Plotnine</a> are among the many others.\n",
    "I get very excited reading about their capabilities. However, the resulting plot still needs fine tuning no matter how sophisticated the visualization function is. This last mile from a flashy picture to an informative graph requires the most effort. Say, I found a function from a fancy library that fits perfectly to my data and renders the following plot that I saw in <a href=\"https://medium.com/@jordan.johnson_35348/is-ruby-on-rails-on-the-next-train-out-cc580d9d0f14\">this article</a>:\n",
    "<div>\n",
    "<img src=\"pics/flashy_plot.jpeg\" width=\"400\"/>\n",
    "</div>\n",
    "Looks slick, but I will have to use words to explain what was measured for each of the programming languages. Adding and x label or writing a title is typically possible but require a dive into documentation of that specific library. Next time when the data fit better to a function from a different library I will have to dive again. Not impossible but tedious.\n",
    "\n",
    "Instead, I want concentrate on the tricks that cover the last mile using the standard `matplotlib` library. There are two reasons for that:\n",
    "<ol>\n",
    "  <li> <b>Inheritance</b>. Some visualization libraries like Seaborn use <code>matplotlib</code> as a backbone. This means that the generated image can then be finished off in the same way as if it was generated with the standard library itself.\n",
    "  </li>\n",
    "  <li> <b>Sufficiency</b>. The standard plotting library provides the majority of the required functionality. The result might not be as flashy or interactive but has all the means for bringing the point across efficiently. For example, the above visualization can be delivered with the standard library in the way shown below.\n",
    "  </li>\n",
    "</ol>"
   ]
  },
  {
   "cell_type": "code",
   "execution_count": null,
   "metadata": {},
   "outputs": [],
   "source": [
    "import matplotlib.pyplot as plt\n",
    "\n",
    "programming_languages = ('JavaScript',\n",
    "                         'HTML/CSS',\n",
    "                         'SQL',\n",
    "                         'Python',\n",
    "                         'TypeScript',\n",
    "                         'Node.js',\n",
    "                         'Java',\n",
    "                         'C#')\n",
    "\n",
    "past_year_use = (68.62, 55.9, 50.73, 41.53, 36.42, 36.19, 34.51, 29.81)\n",
    "\n",
    "plt.barh(programming_languages, past_year_use)\n",
    "plt.show()"
   ]
  },
  {
   "attachments": {},
   "cell_type": "markdown",
   "metadata": {},
   "source": [
    "The bare bones plot from the standard library looks even less informative. The following section will cover how to make this plot easy to read which would add extra code to the setup. The section after that will show ways of saving time typing the same decoration commands over and over again."
   ]
  },
  {
   "attachments": {},
   "cell_type": "markdown",
   "metadata": {},
   "source": [
    "## Making plots easier to read"
   ]
  },
  {
   "attachments": {},
   "cell_type": "markdown",
   "metadata": {},
   "source": [
    "### Figure size\n",
    "The size of the visualization should be proportional to the amount of information we want to convey. Stretching the bars across the plot of the default size will only eat up the space without adding any value like in the following example from <a href=\"https://plotnine.readthedocs.io/en/stable/generated/plotnine.geoms.geom_col.html#two-variable-bar-plot\">here</a>:\n",
    "<div>\n",
    "<img src=\"pics/thick_bars.png\" width=\"400\"/>\n",
    "</div>\n",
    "Overcrowded plots will benefit from increasing the figure size.\n",
    "\n",
    "The following piece of code placed before the plotting function will set the figure width to 5 inches and height to 3 inches:\n",
    "```python\n",
    "plt.figure(figsize = (5,3))  # set the figure size (Width, Height)\n",
    "```\n",
    "<div>\n",
    "<img src=\"pics/demo_bar_plot_fs.png\" width=\"500\"/>\n",
    "</div>"
   ]
  },
  {
   "attachments": {},
   "cell_type": "markdown",
   "metadata": {},
   "source": [
    "### Title and axis labels\n",
    "\n",
    "The most crucial piece of information that is what is on the plot. An assumption that this might be obvious typically leads to confusion, misinterpretations, unnecessary questions, and lengthy explanations. A simple remedy would be to always label the axis and tell the readers the goal of the plot in the title.\n",
    "Say, I want bring across the point that unlike my expectations Python is not as wide spread in developers projects compared to other programming languages. Then I would set the title and the axis as follows:\n",
    "\n",
    "```python\n",
    "plt.title('Less than half developers used Python\\n'\n",
    "          'in their projects in the past year')\n",
    "plt.xlabel('Percentage of developers')\n",
    "plt.ylabel('Programming Language')\n",
    "```\n",
    "<div>\n",
    "<img src=\"pics/demo_bar_plot_ttl.png\" width=\"500\"/>\n",
    "</div>"
   ]
  },
  {
   "attachments": {},
   "cell_type": "markdown",
   "metadata": {},
   "source": [
    "### Grid lines\n",
    "The grid lines help perceive the differences between the values similar to how the lines on the football field help referees spot the differences between players' positions when calling offsides.\n",
    "<div>\n",
    "<img src=\"pics/offside.jpg\" width=\"400\"/>\n",
    "</div>\n",
    "\n",
    "The following line sets the grid:\n",
    "\n",
    "```python\n",
    "plt.grid()              # show the grid\n",
    "```\n",
    "\n",
    "However, the default behavior is that the grid shows up at the top of the plot drawing. And this is ugly. The fix requires  extracting the axis object from the plot before setting the grid below the plot:\n",
    "\n",
    "```python\n",
    "ax = plt.gca()          # get the axis from the plot\n",
    "ax.set_axisbelow(True)  # set the grid lines behind the value bars\n",
    "```\n",
    "<div>\n",
    "<img src=\"pics/demo_bar_plot_gl.png\" width=\"500\"/>\n",
    "</div>"
   ]
  },
  {
   "attachments": {},
   "cell_type": "markdown",
   "metadata": {},
   "source": [
    "### Ticks formatting\n",
    "\n",
    "Reading the numeric value takes two steps: reading the number from the ticks and reading the measurement unit from the label. We can cut on mental step by adding the measurement unit to the tick value. The following trick involves defining a function that takes 2 arguments (tick value and tick sequence number) to generate a replacement. That replacement is then applied it to the axis of interest (`xaxis` or `yaxis`):\n",
    "```python\n",
    "add_percentage = lambda value, tick_number: f\"{value:.0f}%\"       # function that adds % to tick value\n",
    "ax.xaxis.set_major_formatter(plt.FuncFormatter(add_percentage))   # apply the tick modifier to x axis\n",
    "```\n",
    "<div>\n",
    "<img src=\"pics/demo_bar_plot_tl.png\" width=\"500\"/>\n",
    "</div>"
   ]
  },
  {
   "attachments": {},
   "cell_type": "markdown",
   "metadata": {},
   "source": [
    "### Reference points\n",
    "\n",
    "Points of reference help navigate the audience around the expectations whether it is the sales goal, an industry standard, the end of quarter day or something of high importance. Adding them explicitly saves efforts in making sense of the plot. \n",
    "\n",
    "I added a vertical line at 50% of programmers who used a programming language so it would be easy to see that Python does not cross the line and get a feeling of by how much without even looking at the numbers.\n",
    "\n",
    "```python\n",
    "plt.axvline(50, color='r')  # 50% cutoff vertical line (axhline for horizontal)\n",
    "```\n",
    "<div>\n",
    "<img src=\"pics/demo_bar_plot_rp.png\" width=\"500\"/>\n",
    "</div>\n"
   ]
  },
  {
   "attachments": {},
   "cell_type": "markdown",
   "metadata": {},
   "source": [
    "### Legend\n",
    "\n",
    "Legend is essential to references different layers of the plot if there is more than one. The order of the layers can be mixed up. In such cases individual layers or plots can be referenced through the corresponding handles. In my example, the legend for the bars themselves will not add value while taking the space but the reference line should be annotated. The location argument helps positioning the legend in a way it is not obstructing the areas of high importance.\n",
    "\n",
    "```python\n",
    "handle_vline = plt.axvline(50, color='r')  # 50% cutoff vertical line (axhline for horizontal)\n",
    "plt.legend([handle_vline],                 # plot handles\n",
    "           ['majority cutoff'],            # plot labels\n",
    "           loc='upper right')              # legend position\n",
    "```\n",
    "<div>\n",
    "<img src=\"pics/demo_bar_plot_lgnd.png\" width=\"500\"/>\n",
    "</div>"
   ]
  },
  {
   "attachments": {},
   "cell_type": "markdown",
   "metadata": {},
   "source": [
    "### Plot specific manipulations\n",
    "\n",
    "The above manipulations are applicable to the major plot types including line plots, bar plots, box plots, etc. However, plot specific manipulations can also help delivering the message. For example, the horizontal bar plot can benefit from highlighting the bar of interest and listing the bars in a descending order.\n",
    "\n",
    "```python\n",
    "python_ix = programming_languages.index('Python')  # find the Python bar position\n",
    "handle_bars[python_ix].set_color('green')          # set bar to different color\n",
    "ax.invert_yaxis()                                  # make bars display from top to bottom vs the default\n",
    "```\n",
    "<div>\n",
    "<img src=\"pics/demo_bar_plot.png\" width=\"500\"/>\n",
    "</div>"
   ]
  },
  {
   "attachments": {},
   "cell_type": "markdown",
   "metadata": {},
   "source": [
    "### Save the plot\n",
    "\n",
    "The last step before adding the plot to the presentation slides is saving it with enough resolution. The default value may or may not work for a given figure size. So it is our responsibility to make sure the final result looks good on the screen.\n",
    "\n",
    "```python\n",
    "plt.savefig('pics/demo_bar_plot.png', bbox_inches='tight', dpi=300)\n",
    "```"
   ]
  },
  {
   "cell_type": "code",
   "execution_count": null,
   "metadata": {},
   "outputs": [],
   "source": [
    "# plot preparation\n",
    "plt.figure(figsize = (5,3))  # set the figure size (Width, Height)\n",
    "ax = plt.gca()  # get the axis from the plot\n",
    "# plotting\n",
    "handle_bars = plt.barh(programming_languages, past_year_use)  # the plot\n",
    "handle_bars[programming_languages.index('Python')].set_color('green')  # set bar of different color\n",
    "ax.invert_yaxis()  # make bars display from top to bottom vs the default\n",
    "# fine tuning\n",
    "plt.title('Less than half developers used Python\\n'\n",
    "          'in their projects in the past year')\n",
    "plt.xlabel('Percentage of developers')\n",
    "plt.ylabel('Programming Language')\n",
    "plt.grid()  # make the grid appear\n",
    "ax.set_axisbelow(True)  # set the grid lines behind the value bars\n",
    "add_percentage = lambda value, tick_number: f\"{value:.0f}%\"       # function that adds % to tick value\n",
    "ax.xaxis.set_major_formatter(plt.FuncFormatter(add_percentage))   # apply the tick modifier to x axis\n",
    "handle_vline = plt.axvline(50, color='r')  # 50% cutoff vertical line (axhline for horizontal)\n",
    "plt.legend([handle_vline],                 # plot handles\n",
    "           ['majority cutoff'],            # plot labels\n",
    "           loc='lower right')              # legend position\n",
    "plt.savefig('pics/demo_bar_plot.png', bbox_inches='tight', dpi=300)\n",
    "plt.show()"
   ]
  },
  {
   "attachments": {},
   "cell_type": "markdown",
   "metadata": {},
   "source": [
    "## Making plots faster to set up\n",
    "The above example showed that a decent amount of fine tuning can be standardized. Nevertheless, it requires a decent amount of code. Memorizing that code is not the biggest problem. The time spent putting the same lines with slight modifications for each plot is. I will lay down a number of ways to reduce memorization and typing time."
   ]
  },
  {
   "attachments": {},
   "cell_type": "markdown",
   "metadata": {},
   "source": [
    "### Change plot defaults\n",
    "This approach allows to save time changing the defaults for each new plot within a jupyter notebook. For example, the default grid behavior and the default figure size can be changing in the following way:\n",
    "\n",
    "```python\n",
    "plt.rcParams['figure.figsize'] = [5, 3]\n",
    "plt.rcParams['axes.axisbelow'] = True\n",
    "plt.rcParams['axes.grid'] = True\n",
    "```\n",
    "\n",
    "The full list of the settings, options, and the defaults can be found <a href=\"https://matplotlib.org/stable/tutorials/introductory/customizing.html\">here</a>.\n",
    "\n",
    "This saves some coding while still needs memorizing and typing everything else."
   ]
  },
  {
   "attachments": {},
   "cell_type": "markdown",
   "metadata": {},
   "source": [
    "### Use jupyter macros\n",
    "\n",
    "Macros allow to retrieve a block of predefined code by typing <code>%macro_name</code>. Titles, axis names, reference points, and other plot parameters change from figure to figure but the code for setting them up stays the same. Macros allow to load a set of predefined commands and fill in the data needed instead of writing all the commands every time.\n",
    "\n",
    "For example, the following set of commands is typical for my workflow. I can use all of them or some of them depending on the goal but having them available right away to finish off a plot saves time."
   ]
  },
  {
   "cell_type": "code",
   "execution_count": null,
   "metadata": {},
   "outputs": [],
   "source": [
    "# plot preparation\n",
    "plt.figure(figsize = (5,3))  # set the figure size (Width, Height)\n",
    "ax = plt.gca()\n",
    "# plotting\n",
    "\n",
    "# fine tuning\n",
    "plt.title('Title')\n",
    "plt.xlabel('x')\n",
    "plt.ylabel('y')\n",
    "plt.grid()\n",
    "ax.set_axisbelow(True)\n",
    "ax.xaxis.set_major_formatter(plt.FuncFormatter(lambda value, tick_number: f\"{value}\" ))\n",
    "handle_vline = plt.axvline(50, color='r')\n",
    "plt.legend([handle_vline], ['reference'])\n",
    "# plt.savefig('pics/plot_name.png', bbox_inches='tight', dpi=300)\n",
    "plt.show()"
   ]
  },
  {
   "attachments": {},
   "cell_type": "markdown",
   "metadata": {},
   "source": [
    "A macro remembers the content of a cell to then paste it when called. So, the first argument in macro creation is macro name while the second one is the cell number.\n",
    "<code>%macro -q -r fine_tune 3</code>"
   ]
  },
  {
   "cell_type": "code",
   "execution_count": null,
   "metadata": {},
   "outputs": [],
   "source": [
    "%macro -q -r fine_tune 3"
   ]
  },
  {
   "cell_type": "code",
   "execution_count": null,
   "metadata": {},
   "outputs": [],
   "source": [
    "%load fine_tune"
   ]
  },
  {
   "cell_type": "markdown",
   "metadata": {},
   "source": []
  }
 ],
 "metadata": {
  "kernelspec": {
   "display_name": "visual_bp",
   "language": "python",
   "name": "python3"
  },
  "language_info": {
   "codemirror_mode": {
    "name": "ipython",
    "version": 3
   },
   "file_extension": ".py",
   "mimetype": "text/x-python",
   "name": "python",
   "nbconvert_exporter": "python",
   "pygments_lexer": "ipython3",
   "version": "3.9.16"
  },
  "orig_nbformat": 4
 },
 "nbformat": 4,
 "nbformat_minor": 2
}
