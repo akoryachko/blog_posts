{
 "cells": [
  {
   "cell_type": "markdown",
   "metadata": {
    "application/vnd.databricks.v1+cell": {
     "cellMetadata": {},
     "inputWidgets": {},
     "nuid": "c67c1130-ed6e-4e40-af8f-e810d41ca28b",
     "showTitle": false,
     "title": ""
    }
   },
   "source": [
    "# Theory"
   ]
  },
  {
   "cell_type": "markdown",
   "metadata": {
    "application/vnd.databricks.v1+cell": {
     "cellMetadata": {},
     "inputWidgets": {},
     "nuid": "ea26347b-e480-4a2f-89d1-121280ae8356",
     "showTitle": false,
     "title": ""
    }
   },
   "source": [
    "## Why Spark\n",
    "### Big data processing\n",
    "<img src=\"pics/global-data-generated-annually.webp\" alt=\"The rate of data accumulation\" width=\"800\"/>\n",
    "\n",
    "We will produce more data next year than all data produced prior to 2020.\n",
    "\n",
    "At some point the data that needs processing exceeds the size of RAM on a single machine.\n",
    "\n",
    "At this stage most of the in-memory processing tools including Pandas would raise an `OutOfMemory` exception.\n",
    "\n",
    "Some packages can swap data between RAM and the permanent storage but it slows down the workflow a lot.\n",
    "\n",
    "In addition, most of the queries can be parallelized but a single machine can not go beyond the number of its cores even if multithreading.\n",
    "\n",
    "One solution would be to beef up the data processing server but it makes the price raise faster than the specs and up to a certain limit.\n",
    "\n",
    "Another solution is to connect a number of cheap machines together and distribute the data processing tasks among them.\n",
    "\n",
    "This turned out to scale up pretty well and gave a rise to Spark as a system that distributed the computational load across the cluster of devices and collects the results."
   ]
  },
  {
   "cell_type": "markdown",
   "metadata": {
    "application/vnd.databricks.v1+cell": {
     "cellMetadata": {},
     "inputWidgets": {},
     "nuid": "b1e25fdf-f70f-4690-8caf-8428914dc770",
     "showTitle": false,
     "title": ""
    }
   },
   "source": [
    "# When Spark\n",
    "\n",
    "1. A lot of rows (>8M). Spark can process Terabytes of data, and with some effort can scale up to Petabytes (https://www.databricks.com/blog/2014/10/10/spark-petabyte-sort.html). It does however also mean that Spark is not very well suited for small data (up to a few million rows), it will work, but the overhead will be large. Pandas/Polars/Python would be better suited for analysis on small datasets.\n",
    "2. Column-wise processing. Better database solutions exist for fast retrieval and saving of individual rows. Spark shines when column-wise operations like filtering, aggregation, transaformation, and so on are required\n"
   ]
  },
  {
   "cell_type": "markdown",
   "metadata": {
    "application/vnd.databricks.v1+cell": {
     "cellMetadata": {},
     "inputWidgets": {},
     "nuid": "e5258aae-2856-4413-ac02-1283156dcd28",
     "showTitle": false,
     "title": ""
    }
   },
   "source": [
    "# How Spark\n",
    "\n",
    "## Distributed computing framework\n",
    "Distributed computing is the method of making multiple computers work together to solve a common problem.\n",
    "\n",
    "For example, we need to perform some operations on a 100 GB file. Processing this data on a single machine can take hours or maybe days based on the operation. \n",
    "However, if the same file could be broken down into 100 files of 1GB each and then processed in parallel, our total time taken would become approximately 1/100th.\n",
    "\n",
    "A Spark cluster consists of the following components shown in the image below:\n",
    "<img src=\"pics/cluster-overview.png\" alt=\"The rate of data accumulation\" width=\"800\"/>\n",
    "\n",
    "All the Python calculations are performed at the driver.\n",
    "The driver also instructs the nodes to load portions of the datasets and perform computations.\n",
    "The results of the computations get sent to the driver node.\n",
    "The commands are executed only when the result needs to be materialized (displayed/stored/etc).\n",
    "\n",
    "For more background information, see: https://spark.apache.org/docs/latest/cluster-overview.html"
   ]
  },
  {
   "cell_type": "markdown",
   "metadata": {
    "application/vnd.databricks.v1+cell": {
     "cellMetadata": {},
     "inputWidgets": {},
     "nuid": "d4a74ac8-1eec-41ee-ba66-e4e47fae6b83",
     "showTitle": false,
     "title": ""
    }
   },
   "source": [
    "# PySpark application\n",
    "PySpark is a wrapper around Spark commands written in Scala.\n",
    "\n",
    "Please download this NY Taxi data from here https://www.kaggle.com/datasets/neilclack/nyc-taxi-trip-data-google-public-data to practice PySpark skills through the exercises below"
   ]
  },
  {
   "cell_type": "code",
   "execution_count": 0,
   "metadata": {
    "application/vnd.databricks.v1+cell": {
     "cellMetadata": {
      "byteLimit": 2048000,
      "rowLimit": 10000
     },
     "inputWidgets": {},
     "nuid": "53fc8b0a-1516-4409-af04-a43c628bfb4a",
     "showTitle": false,
     "title": ""
    }
   },
   "outputs": [],
   "source": [
    "import pyspark.sql.functions as F"
   ]
  },
  {
   "cell_type": "markdown",
   "metadata": {
    "application/vnd.databricks.v1+cell": {
     "cellMetadata": {},
     "inputWidgets": {},
     "nuid": "5d0cea16-9818-48f5-b7ed-8fedb66b0a64",
     "showTitle": false,
     "title": ""
    }
   },
   "source": [
    "# 1. Basic operations"
   ]
  },
  {
   "cell_type": "markdown",
   "metadata": {
    "application/vnd.databricks.v1+cell": {
     "cellMetadata": {},
     "inputWidgets": {},
     "nuid": "a204d800-1b1c-4b08-b15f-1a8c1a2cee33",
     "showTitle": false,
     "title": ""
    }
   },
   "source": [
    "## 1.1 Read"
   ]
  },
  {
   "cell_type": "markdown",
   "metadata": {
    "application/vnd.databricks.v1+cell": {
     "cellMetadata": {},
     "inputWidgets": {},
     "nuid": "d1ba6044-0d73-4866-b840-4b04a3a3697c",
     "showTitle": false,
     "title": ""
    }
   },
   "source": [
    "**Example**: reading the trips dataset `taxi_trip_data` from the path `dbfs:/FileStore/tables/nyctaxi-training`"
   ]
  },
  {
   "cell_type": "code",
   "execution_count": 0,
   "metadata": {
    "application/vnd.databricks.v1+cell": {
     "cellMetadata": {
      "byteLimit": 2048000,
      "rowLimit": 10000
     },
     "inputWidgets": {},
     "nuid": "b3cc44a5-0f2b-4bb8-a3b3-8a07f03cfc9f",
     "showTitle": false,
     "title": ""
    }
   },
   "outputs": [],
   "source": [
    "LOAD_PATH = \"dbfs:/FileStore/tables/nyctaxi-training\""
   ]
  },
  {
   "cell_type": "code",
   "execution_count": 0,
   "metadata": {
    "application/vnd.databricks.v1+cell": {
     "cellMetadata": {
      "byteLimit": 2048000,
      "rowLimit": 10000
     },
     "inputWidgets": {},
     "nuid": "ee54daeb-f3fd-49f3-abcb-00ea3f6fbf05",
     "showTitle": false,
     "title": ""
    }
   },
   "outputs": [],
   "source": [
    "sdf_trips = spark.read.load(f\"{LOAD_PATH}/taxi_trip_data\")"
   ]
  },
  {
   "cell_type": "markdown",
   "metadata": {
    "application/vnd.databricks.v1+cell": {
     "cellMetadata": {},
     "inputWidgets": {},
     "nuid": "cc913a47-6a5b-4406-add3-ed6a916a583b",
     "showTitle": false,
     "title": ""
    }
   },
   "source": [
    "**Task**: read the geo zones dataset from the taxi_zone_geo.csv file in the data folder"
   ]
  },
  {
   "cell_type": "code",
   "execution_count": 0,
   "metadata": {
    "application/vnd.databricks.v1+cell": {
     "cellMetadata": {
      "byteLimit": 2048000,
      "rowLimit": 10000
     },
     "inputWidgets": {},
     "nuid": "a51b9191-6884-4005-ab72-f707ba0728cb",
     "showTitle": false,
     "title": ""
    }
   },
   "outputs": [],
   "source": [
    "sdf_geo = spark.read.load(f\"{LOAD_PATH}/taxi_zone_geo\")"
   ]
  },
  {
   "cell_type": "markdown",
   "metadata": {
    "application/vnd.databricks.v1+cell": {
     "cellMetadata": {},
     "inputWidgets": {},
     "nuid": "55d8c5a5-f63d-4b88-b246-d84446fd9d6d",
     "showTitle": false,
     "title": ""
    }
   },
   "source": [
    "## 1.2 Display rows"
   ]
  },
  {
   "cell_type": "markdown",
   "metadata": {
    "application/vnd.databricks.v1+cell": {
     "cellMetadata": {},
     "inputWidgets": {},
     "nuid": "d9ef0e8e-de22-4635-afeb-2a32905486fc",
     "showTitle": false,
     "title": ""
    }
   },
   "source": [
    "**Example**: show a sample of 5 records from sdf_trips"
   ]
  },
  {
   "cell_type": "code",
   "execution_count": 0,
   "metadata": {
    "application/vnd.databricks.v1+cell": {
     "cellMetadata": {
      "byteLimit": 2048000,
      "rowLimit": 10000
     },
     "inputWidgets": {},
     "nuid": "ad678cf3-5857-4e34-9a79-25b2ccbeae9c",
     "showTitle": false,
     "title": ""
    }
   },
   "outputs": [],
   "source": [
    "sdf_trips.limit(5).toPandas()"
   ]
  },
  {
   "cell_type": "markdown",
   "metadata": {
    "application/vnd.databricks.v1+cell": {
     "cellMetadata": {},
     "inputWidgets": {},
     "nuid": "84dd0462-8740-4b30-a214-a39500beb952",
     "showTitle": false,
     "title": ""
    }
   },
   "source": [
    "**Task**: show a sample of 3 records from sdf_geo"
   ]
  },
  {
   "cell_type": "code",
   "execution_count": 0,
   "metadata": {
    "application/vnd.databricks.v1+cell": {
     "cellMetadata": {
      "byteLimit": 2048000,
      "rowLimit": 10000
     },
     "inputWidgets": {},
     "nuid": "28068efd-9740-4f10-8860-08a2a4215220",
     "showTitle": false,
     "title": ""
    }
   },
   "outputs": [],
   "source": [
    "sdf_geo.show(3)"
   ]
  },
  {
   "cell_type": "markdown",
   "metadata": {
    "application/vnd.databricks.v1+cell": {
     "cellMetadata": {},
     "inputWidgets": {},
     "nuid": "ac8c0bb6-14f5-4c3e-8351-10c38ae251a3",
     "showTitle": false,
     "title": ""
    }
   },
   "source": [
    "## 1.3 Aggregate"
   ]
  },
  {
   "cell_type": "markdown",
   "metadata": {
    "application/vnd.databricks.v1+cell": {
     "cellMetadata": {},
     "inputWidgets": {},
     "nuid": "c3bb4e6e-7193-4e5d-86a4-cd62753f85fd",
     "showTitle": false,
     "title": ""
    }
   },
   "source": [
    "**Example**: show the top 3 most used payment types"
   ]
  },
  {
   "cell_type": "code",
   "execution_count": 0,
   "metadata": {
    "application/vnd.databricks.v1+cell": {
     "cellMetadata": {
      "byteLimit": 2048000,
      "rowLimit": 10000
     },
     "inputWidgets": {},
     "nuid": "95b3bf4c-646a-4606-99e5-cc3b0c69e5e4",
     "showTitle": false,
     "title": ""
    }
   },
   "outputs": [],
   "source": [
    "(\n",
    "    sdf_trips\n",
    "    .groupBy('payment_type')\n",
    "    .count()\n",
    "    .sort(F.desc('count'))\n",
    ").show(3)"
   ]
  },
  {
   "cell_type": "markdown",
   "metadata": {
    "application/vnd.databricks.v1+cell": {
     "cellMetadata": {},
     "inputWidgets": {},
     "nuid": "80f9b2ff-1591-45a5-b6d9-f0183b75955d",
     "showTitle": false,
     "title": ""
    }
   },
   "source": [
    "**Task**: show the top 3 borough names with the most zone ids\n",
    "\n",
    "Extra credit for displaying the percentage of total zone ids"
   ]
  },
  {
   "cell_type": "code",
   "execution_count": 0,
   "metadata": {
    "application/vnd.databricks.v1+cell": {
     "cellMetadata": {
      "byteLimit": 2048000,
      "rowLimit": 10000
     },
     "inputWidgets": {},
     "nuid": "52e074f2-b9da-400a-a191-e795f6f32983",
     "showTitle": false,
     "title": ""
    }
   },
   "outputs": [],
   "source": [
    "geo_row_count = sdf_geo.count()\n",
    "\n",
    "(\n",
    "    sdf_geo\n",
    "    .groupBy('borough')\n",
    "    .count()\n",
    "    .sort(F.desc('count'))\n",
    "    .withColumn('percentage', F.format_string('%2.2f%%', 100*F.col('count')/geo_row_count))\n",
    "    .drop('all_counts')\n",
    ").show(3)"
   ]
  },
  {
   "cell_type": "markdown",
   "metadata": {
    "application/vnd.databricks.v1+cell": {
     "cellMetadata": {},
     "inputWidgets": {},
     "nuid": "55593e74-1c28-499e-821c-3180a2548bd0",
     "showTitle": false,
     "title": ""
    }
   },
   "source": [
    "## 1.4 Filter"
   ]
  },
  {
   "cell_type": "markdown",
   "metadata": {
    "application/vnd.databricks.v1+cell": {
     "cellMetadata": {},
     "inputWidgets": {},
     "nuid": "2796d997-3835-44da-a773-33813e038438",
     "showTitle": false,
     "title": ""
    }
   },
   "source": [
    "**Example**: count of the rides with more than 3 passengers in the year May of 2018"
   ]
  },
  {
   "cell_type": "code",
   "execution_count": 0,
   "metadata": {
    "application/vnd.databricks.v1+cell": {
     "cellMetadata": {
      "byteLimit": 2048000,
      "rowLimit": 10000
     },
     "inputWidgets": {},
     "nuid": "17f6b096-c3c1-4126-9fe3-47a91e4b58ce",
     "showTitle": false,
     "title": ""
    }
   },
   "outputs": [],
   "source": [
    "n_full_car_rides = (\n",
    "    sdf_trips\n",
    "    .filter(F.date_format(F.col('pickup_datetime'), \"MMyyyy\") == \"052018\")\n",
    "    .filter(F.col('passenger_count') > 3)\n",
    ").count()\n",
    "\n",
    "print(f\"{n_full_car_rides:,}\")"
   ]
  },
  {
   "cell_type": "markdown",
   "metadata": {
    "application/vnd.databricks.v1+cell": {
     "cellMetadata": {},
     "inputWidgets": {},
     "nuid": "19330d35-4e87-4926-9845-a6e3984d064a",
     "showTitle": false,
     "title": ""
    }
   },
   "source": [
    "**Task**: find the cost of the most expensive ride that ended between 5pm and 6pm made paid with the payment type 1"
   ]
  },
  {
   "cell_type": "code",
   "execution_count": 0,
   "metadata": {
    "application/vnd.databricks.v1+cell": {
     "cellMetadata": {
      "byteLimit": 2048000,
      "rowLimit": 10000
     },
     "inputWidgets": {},
     "nuid": "b1f17836-3152-458f-afea-1ed59beeaa22",
     "showTitle": false,
     "title": ""
    }
   },
   "outputs": [],
   "source": [
    "cost_evening_ride = (\n",
    "    sdf_trips\n",
    "    .filter(F.date_format(F.col('dropoff_datetime'), \"HH\") == \"17\")\n",
    "    .filter(F.col('payment_type') == 1)\n",
    "    .agg(F.max(\"fare_amount\"))\n",
    ").collect()[0][0]\n",
    "\n",
    "print(f\"${cost_evening_ride:,.2f}\")"
   ]
  },
  {
   "cell_type": "markdown",
   "metadata": {
    "application/vnd.databricks.v1+cell": {
     "cellMetadata": {},
     "inputWidgets": {},
     "nuid": "44f0a068-0f2e-4c61-a7fe-a108407db850",
     "showTitle": false,
     "title": ""
    }
   },
   "source": [
    "## 1.5 Deduplicate"
   ]
  },
  {
   "cell_type": "markdown",
   "metadata": {
    "application/vnd.databricks.v1+cell": {
     "cellMetadata": {},
     "inputWidgets": {},
     "nuid": "0b456577-e53d-4d35-8522-6965228722eb",
     "showTitle": false,
     "title": ""
    }
   },
   "source": [
    "**Example**: keep only one trip for each unique combination of passenger_count and rate_code"
   ]
  },
  {
   "cell_type": "code",
   "execution_count": 0,
   "metadata": {
    "application/vnd.databricks.v1+cell": {
     "cellMetadata": {
      "byteLimit": 2048000,
      "rowLimit": 10000
     },
     "inputWidgets": {},
     "nuid": "ddcf3d59-84c2-4b1b-a300-9565e3896539",
     "showTitle": false,
     "title": ""
    }
   },
   "outputs": [],
   "source": [
    "(\n",
    "    sdf_trips\n",
    "    .dropDuplicates([\"passenger_count\", \"rate_code\"])\n",
    ").limit(5).toPandas()"
   ]
  },
  {
   "cell_type": "markdown",
   "metadata": {
    "application/vnd.databricks.v1+cell": {
     "cellMetadata": {},
     "inputWidgets": {},
     "nuid": "e5b84754-247f-44ba-b32a-6d186e7ff729",
     "showTitle": false,
     "title": ""
    }
   },
   "source": [
    "**Task**: keep only one zone name for each zone id in the `geo` dataset"
   ]
  },
  {
   "cell_type": "code",
   "execution_count": 0,
   "metadata": {
    "application/vnd.databricks.v1+cell": {
     "cellMetadata": {
      "byteLimit": 2048000,
      "rowLimit": 10000
     },
     "inputWidgets": {},
     "nuid": "72a05856-6fa4-4422-8916-00c9cd48ea49",
     "showTitle": false,
     "title": ""
    }
   },
   "outputs": [],
   "source": [
    "(\n",
    "    sdf_geo\n",
    "    .dropDuplicates([\"zone_id\"])\n",
    ").show(5)"
   ]
  },
  {
   "cell_type": "markdown",
   "metadata": {
    "application/vnd.databricks.v1+cell": {
     "cellMetadata": {},
     "inputWidgets": {},
     "nuid": "908b8d97-ee49-49d2-9e24-e8b25ca2266d",
     "showTitle": false,
     "title": ""
    }
   },
   "source": [
    "## 1.6 Change conditionally"
   ]
  },
  {
   "cell_type": "markdown",
   "metadata": {
    "application/vnd.databricks.v1+cell": {
     "cellMetadata": {},
     "inputWidgets": {},
     "nuid": "093e4ecc-6766-4957-81e1-94f2ece74206",
     "showTitle": false,
     "title": ""
    }
   },
   "source": [
    "**Example**: reduce the `tolls_amount` by half for the trips that started and ended in the different zones"
   ]
  },
  {
   "cell_type": "code",
   "execution_count": 0,
   "metadata": {
    "application/vnd.databricks.v1+cell": {
     "cellMetadata": {
      "byteLimit": 2048000,
      "rowLimit": 10000
     },
     "inputWidgets": {},
     "nuid": "38f7650c-a7e0-474f-a7e4-d8d390d6efbb",
     "showTitle": false,
     "title": ""
    }
   },
   "outputs": [],
   "source": [
    "(\n",
    "    sdf_trips\n",
    "    .withColumn(\n",
    "        \"new_toll\",\n",
    "        F.when(F.col(\"pickup_location_id\") != F.col(\"dropoff_location_id\"), F.col(\"tolls_amount\") * 0.5)\n",
    "        .otherwise(F.col(\"tolls_amount\"))\n",
    "    )\n",
    ").limit(5).toPandas()"
   ]
  },
  {
   "cell_type": "markdown",
   "metadata": {
    "application/vnd.databricks.v1+cell": {
     "cellMetadata": {},
     "inputWidgets": {},
     "nuid": "8d6d14f7-d9dd-4f68-91dd-65b2564b5117",
     "showTitle": false,
     "title": ""
    }
   },
   "source": [
    "**Task**: set the fare_amount to 0 for the negative fares and cap the positive ones by $10"
   ]
  },
  {
   "cell_type": "code",
   "execution_count": 0,
   "metadata": {
    "application/vnd.databricks.v1+cell": {
     "cellMetadata": {
      "byteLimit": 2048000,
      "rowLimit": 10000
     },
     "inputWidgets": {},
     "nuid": "b799817e-b2b6-4708-b26b-8db9ae6bdc31",
     "showTitle": false,
     "title": ""
    }
   },
   "outputs": [],
   "source": [
    "(\n",
    "    sdf_trips\n",
    "    .withColumn(\n",
    "        \"fare_amount\",\n",
    "        F.when(F.col(\"fare_amount\") < 0, F.lit(0))\n",
    "        .when(F.col(\"fare_amount\") > 10, F.lit(10))\n",
    "        .otherwise(F.col(\"fare_amount\"))\n",
    "    )\n",
    ").limit(5).toPandas()"
   ]
  },
  {
   "cell_type": "markdown",
   "metadata": {
    "application/vnd.databricks.v1+cell": {
     "cellMetadata": {},
     "inputWidgets": {},
     "nuid": "8ab03993-7285-47b6-a1d1-f69fa5340374",
     "showTitle": false,
     "title": ""
    }
   },
   "source": [
    "## 1.7 Join"
   ]
  },
  {
   "cell_type": "markdown",
   "metadata": {
    "application/vnd.databricks.v1+cell": {
     "cellMetadata": {},
     "inputWidgets": {},
     "nuid": "9edff402-5fc0-4c5f-a9d3-c3b58aaa0a9b",
     "showTitle": false,
     "title": ""
    }
   },
   "source": [
    "**Example**: how many single passengers were picked up in Bronx borough"
   ]
  },
  {
   "cell_type": "code",
   "execution_count": 0,
   "metadata": {
    "application/vnd.databricks.v1+cell": {
     "cellMetadata": {
      "byteLimit": 2048000,
      "rowLimit": 10000
     },
     "inputWidgets": {},
     "nuid": "5c3df824-c624-4b3a-ab11-ee6e4442217f",
     "showTitle": false,
     "title": ""
    }
   },
   "outputs": [],
   "source": [
    "n_single_bronx_rides = (\n",
    "    sdf_trips\n",
    "    .filter(F.col(\"passenger_count\") == 1)\n",
    "    .join(\n",
    "        sdf_geo\n",
    "        .filter(F.col(\"borough\") == \"Bronx\"),\n",
    "        sdf_trips.pickup_location_id == sdf_geo.zone_id,\n",
    "        how=\"inner\",\n",
    "    )\n",
    ").count()\n",
    "\n",
    "print(f\"{n_single_bronx_rides:,} single Bronx rides\")"
   ]
  },
  {
   "cell_type": "markdown",
   "metadata": {
    "application/vnd.databricks.v1+cell": {
     "cellMetadata": {},
     "inputWidgets": {},
     "nuid": "b8434c92-1690-4f43-965f-5ec8d1695821",
     "showTitle": false,
     "title": ""
    }
   },
   "source": [
    "**Task**: What is the longest ride to JFK Airport zone for less than $20?"
   ]
  },
  {
   "cell_type": "code",
   "execution_count": 0,
   "metadata": {
    "application/vnd.databricks.v1+cell": {
     "cellMetadata": {
      "byteLimit": 2048000,
      "rowLimit": 10000
     },
     "inputWidgets": {},
     "nuid": "5985a568-393c-4655-bf7b-8a3178103c92",
     "showTitle": false,
     "title": ""
    }
   },
   "outputs": [],
   "source": [
    "longest_cheap_trip = (\n",
    "    sdf_trips\n",
    "    .filter(F.col(\"passenger_count\") == 1)\n",
    "    .join(\n",
    "        sdf_geo\n",
    "        .filter(F.col(\"zone_name\") == \"JFK Airport\"),\n",
    "        sdf_trips.dropoff_location_id == sdf_geo.zone_id,\n",
    "        how=\"inner\",\n",
    "    )\n",
    "    .filter(F.col(\"fare_amount\") < 20)\n",
    "    .sort(F.desc(\"trip_distance\"))\n",
    "    .limit(1)\n",
    ").collect()[0][\"trip_distance\"]\n",
    "\n",
    "print(f\"Price for the longest cheap trip: ${longest_cheap_trip:,.2f}\")"
   ]
  },
  {
   "cell_type": "markdown",
   "metadata": {
    "application/vnd.databricks.v1+cell": {
     "cellMetadata": {},
     "inputWidgets": {},
     "nuid": "38e73e9a-6033-4e7a-a3a4-e921d8ba72c5",
     "showTitle": false,
     "title": ""
    }
   },
   "source": [
    "# 2. User defined functions\n",
    "When you think you ran out of Pyspark native options"
   ]
  },
  {
   "cell_type": "code",
   "execution_count": 0,
   "metadata": {
    "application/vnd.databricks.v1+cell": {
     "cellMetadata": {
      "byteLimit": 2048000,
      "rowLimit": 10000
     },
     "inputWidgets": {},
     "nuid": "fa92bb85-0735-4e1c-ba6b-395d0ee07f20",
     "showTitle": false,
     "title": ""
    }
   },
   "outputs": [],
   "source": [
    "import pyspark.sql.types as T"
   ]
  },
  {
   "cell_type": "markdown",
   "metadata": {
    "application/vnd.databricks.v1+cell": {
     "cellMetadata": {},
     "inputWidgets": {},
     "nuid": "ac261e2e-54f0-4460-8abd-212b1aa7d90b",
     "showTitle": false,
     "title": ""
    }
   },
   "source": [
    "**Example**: round up the tip amount"
   ]
  },
  {
   "cell_type": "code",
   "execution_count": 0,
   "metadata": {
    "application/vnd.databricks.v1+cell": {
     "cellMetadata": {
      "byteLimit": 2048000,
      "rowLimit": 10000
     },
     "inputWidgets": {},
     "nuid": "0e838ee1-2b4a-4422-83a9-8318e691dd19",
     "showTitle": false,
     "title": ""
    }
   },
   "outputs": [],
   "source": [
    "from math import ceil\n",
    "\n",
    "def spark_ceil(x):\n",
    "    return ceil(x)\n",
    "\n",
    "spark_ceil_udf = F.udf(spark_ceil, T.IntegerType())"
   ]
  },
  {
   "cell_type": "code",
   "execution_count": 0,
   "metadata": {
    "application/vnd.databricks.v1+cell": {
     "cellMetadata": {
      "byteLimit": 2048000,
      "rowLimit": 10000
     },
     "inputWidgets": {},
     "nuid": "9e7e1790-2c16-4a15-9024-d92c149035bd",
     "showTitle": false,
     "title": ""
    }
   },
   "outputs": [],
   "source": [
    "(\n",
    "    sdf_trips\n",
    "    .withColumn(\"tip_amount_rounded_up\", spark_ceil_udf(F.col(\"tip_amount\")))\n",
    "    .select(\"tip_amount_rounded_up\", \"tip_amount\")\n",
    "    .sample(0.001)\n",
    ").show(5)"
   ]
  },
  {
   "cell_type": "markdown",
   "metadata": {
    "application/vnd.databricks.v1+cell": {
     "cellMetadata": {},
     "inputWidgets": {},
     "nuid": "76be5a10-d510-4610-b86e-90634381e3c9",
     "showTitle": false,
     "title": ""
    }
   },
   "source": [
    "**Task**: calculate cosine of the tolls amount"
   ]
  },
  {
   "cell_type": "code",
   "execution_count": 0,
   "metadata": {
    "application/vnd.databricks.v1+cell": {
     "cellMetadata": {
      "byteLimit": 2048000,
      "rowLimit": 10000
     },
     "inputWidgets": {},
     "nuid": "8c535f3f-0101-4697-854b-9736de35b822",
     "showTitle": false,
     "title": ""
    }
   },
   "outputs": [],
   "source": [
    "from math import cos\n",
    "\n",
    "def spark_cos(x):\n",
    "    return cos(x)\n",
    "\n",
    "spark_cos_udf = F.udf(spark_cos, T.FloatType())"
   ]
  },
  {
   "cell_type": "code",
   "execution_count": 0,
   "metadata": {
    "application/vnd.databricks.v1+cell": {
     "cellMetadata": {
      "byteLimit": 2048000,
      "rowLimit": 10000
     },
     "inputWidgets": {},
     "nuid": "59fee732-2041-4c88-9739-93f0523ceb35",
     "showTitle": false,
     "title": ""
    }
   },
   "outputs": [],
   "source": [
    "(\n",
    "    sdf_trips\n",
    "    .withColumn(\"cos_tolls_amount\", spark_cos_udf(F.col(\"tolls_amount\")))\n",
    "    .select(\"cos_tolls_amount\", \"tolls_amount\")\n",
    ").show(5)"
   ]
  },
  {
   "cell_type": "markdown",
   "metadata": {
    "application/vnd.databricks.v1+cell": {
     "cellMetadata": {},
     "inputWidgets": {},
     "nuid": "6c7aa354-f8dc-45af-86cf-5efa55fdf0b0",
     "showTitle": false,
     "title": ""
    }
   },
   "source": [
    "# 3. Transformations within slices/windows"
   ]
  },
  {
   "cell_type": "code",
   "execution_count": 0,
   "metadata": {
    "application/vnd.databricks.v1+cell": {
     "cellMetadata": {
      "byteLimit": 2048000,
      "rowLimit": 10000
     },
     "inputWidgets": {},
     "nuid": "53e184fb-ce00-457a-a8e9-c3452f6706df",
     "showTitle": false,
     "title": ""
    }
   },
   "outputs": [],
   "source": [
    "from pyspark.sql import Window"
   ]
  },
  {
   "cell_type": "markdown",
   "metadata": {
    "application/vnd.databricks.v1+cell": {
     "cellMetadata": {},
     "inputWidgets": {},
     "nuid": "0aad028b-db78-490b-b70e-9f0c0fe237ac",
     "showTitle": false,
     "title": ""
    }
   },
   "source": [
    "**Example**: keep the 3 latest rides from each pickup zone"
   ]
  },
  {
   "cell_type": "code",
   "execution_count": 0,
   "metadata": {
    "application/vnd.databricks.v1+cell": {
     "cellMetadata": {
      "byteLimit": 2048000,
      "rowLimit": 10000
     },
     "inputWidgets": {},
     "nuid": "96c44cf7-308e-4ea2-af97-eb1422b7e218",
     "showTitle": false,
     "title": ""
    }
   },
   "outputs": [],
   "source": [
    "(\n",
    "    sdf_trips\n",
    "    .withColumn(\n",
    "        \"row_number\",\n",
    "        F.row_number()\n",
    "        .over(\n",
    "            Window\n",
    "            .partitionBy(\"pickup_location_id\")\n",
    "            .orderBy(F.desc(\"pickup_datetime\"))\n",
    "        )\n",
    "    )\n",
    "    .filter(F.col(\"row_number\") < 4)\n",
    "    .drop(\"row_number\")\n",
    ").limit(5).toPandas()"
   ]
  },
  {
   "cell_type": "markdown",
   "metadata": {
    "application/vnd.databricks.v1+cell": {
     "cellMetadata": {},
     "inputWidgets": {},
     "nuid": "4e9bbd4c-2d14-43a4-8bf7-2b3dd4cd1414",
     "showTitle": false,
     "title": ""
    }
   },
   "source": [
    "**Task**: calculate a cumulative sum of mta_tax starting from the earliest for each payment type\n",
    "\n",
    "Extra credit: how many trips did it take to accumulate $5 in mta_tax for each payment type?"
   ]
  },
  {
   "cell_type": "code",
   "execution_count": 0,
   "metadata": {
    "application/vnd.databricks.v1+cell": {
     "cellMetadata": {
      "byteLimit": 2048000,
      "rowLimit": 10000
     },
     "inputWidgets": {},
     "nuid": "ad499020-35c8-4c4a-8648-bccbff873876",
     "showTitle": false,
     "title": ""
    }
   },
   "outputs": [],
   "source": [
    "TO_ACCUMULATE = 5\n",
    "\n",
    "(\n",
    "    sdf_trips\n",
    "    .withColumn(\n",
    "        \"cumulative_mta_tax\",\n",
    "        F.sum(\"mta_tax\")\n",
    "        .over(\n",
    "            Window\n",
    "            .partitionBy(\"payment_type\")\n",
    "            .orderBy(F.col(\"pickup_datetime\"))\n",
    "            .rowsBetween(Window.unboundedPreceding, Window.currentRow)\n",
    "        )\n",
    "    )\n",
    "    .filter(F.col(\"cumulative_mta_tax\") <= TO_ACCUMULATE)\n",
    "    .groupBy(\"payment_type\")\n",
    "    .agg(\n",
    "        F.count(\"*\").alias(\"trips_count\"),\n",
    "        F.max(\"cumulative_mta_tax\").alias(\"max_cum\")\n",
    "    )\n",
    "    .select(\n",
    "        \"payment_type\",\n",
    "        F.when(F.col(\"max_cum\") >= TO_ACCUMULATE, F.col(\"trips_count\"))\n",
    "        .otherwise(F.lit(None))\n",
    "        .alias(\"trips_count\")\n",
    "    )\n",
    ").show(50)"
   ]
  },
  {
   "cell_type": "markdown",
   "metadata": {
    "application/vnd.databricks.v1+cell": {
     "cellMetadata": {},
     "inputWidgets": {},
     "nuid": "8ac27bfb-65cc-4647-8683-af39797b817b",
     "showTitle": false,
     "title": ""
    }
   },
   "source": [
    "# 4. Structures and Arrays"
   ]
  },
  {
   "cell_type": "markdown",
   "metadata": {
    "application/vnd.databricks.v1+cell": {
     "cellMetadata": {},
     "inputWidgets": {},
     "nuid": "00c3f94c-4849-4be5-86ab-1e375ee15275",
     "showTitle": false,
     "title": ""
    }
   },
   "source": [
    "## 4.1 Structures"
   ]
  },
  {
   "cell_type": "markdown",
   "metadata": {
    "application/vnd.databricks.v1+cell": {
     "cellMetadata": {},
     "inputWidgets": {},
     "nuid": "2e2851e0-7b7e-4906-a262-2cec2054d247",
     "showTitle": false,
     "title": ""
    }
   },
   "source": [
    "**Example**: put pickup and dropoff locations to the `zone_ids` structure"
   ]
  },
  {
   "cell_type": "code",
   "execution_count": 0,
   "metadata": {
    "application/vnd.databricks.v1+cell": {
     "cellMetadata": {
      "byteLimit": 2048000,
      "rowLimit": 10000
     },
     "inputWidgets": {},
     "nuid": "d38f4f12-1da8-4e19-9521-788ba8a9211d",
     "showTitle": false,
     "title": ""
    }
   },
   "outputs": [],
   "source": [
    "(\n",
    "    sdf_trips\n",
    "    .withColumn(\n",
    "        \"zone_ids\",\n",
    "        F.struct('pickup_location_id','dropoff_location_id')\n",
    "    )\n",
    ").printSchema()"
   ]
  },
  {
   "cell_type": "markdown",
   "metadata": {
    "application/vnd.databricks.v1+cell": {
     "cellMetadata": {},
     "inputWidgets": {},
     "nuid": "bec5de89-8beb-4ff2-aa82-f2f8cdf833e7",
     "showTitle": false,
     "title": ""
    }
   },
   "source": [
    "**Task 1**: create a column that would hold a structure called `payments` that would include the total and substructure with all the contributions to this payment\n",
    "\n",
    "**Task 2**: create a dataframe `sdf_structured` with the column above while the contributing columns are dropped"
   ]
  },
  {
   "cell_type": "code",
   "execution_count": 0,
   "metadata": {
    "application/vnd.databricks.v1+cell": {
     "cellMetadata": {
      "byteLimit": 2048000,
      "rowLimit": 10000
     },
     "inputWidgets": {},
     "nuid": "df845677-9036-4d68-8a45-ce02a2f07a25",
     "showTitle": false,
     "title": ""
    }
   },
   "outputs": [],
   "source": [
    "sdf_structured = (\n",
    "    sdf_trips\n",
    "    .withColumn(\n",
    "        \"contributions\",\n",
    "        F.struct(*sdf_trips.columns[8:12])\n",
    "    )\n",
    "    .withColumn(\n",
    "        'payments',\n",
    "        F.struct(\"contributions\", \"total_amount\")\n",
    "    )\n",
    "    .drop(*sdf_trips.columns[8:13])\n",
    "    .drop(\"contributions\")\n",
    ")\n",
    "\n",
    "sdf_structured.printSchema()"
   ]
  },
  {
   "cell_type": "markdown",
   "metadata": {
    "application/vnd.databricks.v1+cell": {
     "cellMetadata": {},
     "inputWidgets": {},
     "nuid": "3606268d-f14a-4103-8070-a86131a98e72",
     "showTitle": false,
     "title": ""
    }
   },
   "source": [
    "## 4.2 Arrays"
   ]
  },
  {
   "cell_type": "markdown",
   "metadata": {
    "application/vnd.databricks.v1+cell": {
     "cellMetadata": {},
     "inputWidgets": {},
     "nuid": "cb6849fb-ff60-4a75-84fc-1dd56d9f5ada",
     "showTitle": false,
     "title": ""
    }
   },
   "source": [
    "**Example**: collect an array of trip distances for each `passenger_count`, `rate_code`, and `payment_type` combination"
   ]
  },
  {
   "cell_type": "code",
   "execution_count": 0,
   "metadata": {
    "application/vnd.databricks.v1+cell": {
     "cellMetadata": {
      "byteLimit": 2048000,
      "rowLimit": 10000
     },
     "inputWidgets": {},
     "nuid": "5afc11d0-3a6c-4063-a3a2-5a210bd67ad8",
     "showTitle": false,
     "title": ""
    }
   },
   "outputs": [],
   "source": [
    "(\n",
    "    sdf_trips\n",
    "    .groupBy(\n",
    "        \"passenger_count\",\n",
    "        \"rate_code\",\n",
    "        \"payment_type\",\n",
    "    )\n",
    "    .agg(\n",
    "        F.collect_list('trip_distance').alias('distances')\n",
    "    )\n",
    ").show(5)"
   ]
  },
  {
   "cell_type": "markdown",
   "metadata": {
    "application/vnd.databricks.v1+cell": {
     "cellMetadata": {},
     "inputWidgets": {},
     "nuid": "28371df9-f372-4439-ad80-856e09fcf15c",
     "showTitle": false,
     "title": ""
    }
   },
   "source": [
    "**Task**: create a column that holds the 5 latest payments structures from `sdf_structured` for each pickup location and store the resulting data frame as `sdf_structured_arrayed`\n",
    "\n",
    "**Extra Credit**: extract the 3rd tip amount from the array for each location"
   ]
  },
  {
   "cell_type": "code",
   "execution_count": 0,
   "metadata": {
    "application/vnd.databricks.v1+cell": {
     "cellMetadata": {
      "byteLimit": 2048000,
      "rowLimit": 10000
     },
     "inputWidgets": {},
     "nuid": "f9c62184-d5fe-4dd2-99ce-2989a4328f2c",
     "showTitle": false,
     "title": ""
    }
   },
   "outputs": [],
   "source": [
    "sdf_structured_arrayed = (\n",
    "    sdf_structured\n",
    "    .withColumn(\n",
    "        \"row_number\",\n",
    "        F.row_number()\n",
    "        .over(\n",
    "            Window\n",
    "            .partitionBy(\"pickup_location_id\")\n",
    "            .orderBy(F.desc(\"pickup_datetime\"))\n",
    "        )\n",
    "    )\n",
    "    .filter(F.col(\"row_number\") < 6)\n",
    "    .groupBy(\"pickup_location_id\")\n",
    "    .agg(\n",
    "        F.collect_list('payments').alias('payments')\n",
    "    )\n",
    "    .withColumnRenamed(\"pickup_location_id\", \"zone_id\")\n",
    "    .join(\n",
    "        sdf_geo,\n",
    "        on=\"zone_id\",\n",
    "        how=\"left\",\n",
    "    )\n",
    ")\n",
    "sdf_structured_arrayed.printSchema()\n",
    "\n",
    "(\n",
    "    sdf_structured_arrayed\n",
    "    .select(\n",
    "        \"zone_name\",\n",
    "        \"payments\",\n",
    "        (F.col(\"payments.contributions.tip_amount\")[2]).alias('the_trird_tip')\n",
    "    )\n",
    ").limit(5).display()"
   ]
  },
  {
   "cell_type": "markdown",
   "metadata": {
    "application/vnd.databricks.v1+cell": {
     "cellMetadata": {},
     "inputWidgets": {},
     "nuid": "ae334a95-ca7b-4972-93a2-0eaab56b546c",
     "showTitle": false,
     "title": ""
    }
   },
   "source": [
    "## 4.3 Extract data"
   ]
  },
  {
   "cell_type": "markdown",
   "metadata": {
    "application/vnd.databricks.v1+cell": {
     "cellMetadata": {},
     "inputWidgets": {},
     "nuid": "952ed347-7734-4622-a8d5-5c4e178cfe8f",
     "showTitle": false,
     "title": ""
    }
   },
   "source": [
    "**Example**: Extract the total amount from `sdf_structured` into an individual column"
   ]
  },
  {
   "cell_type": "code",
   "execution_count": 0,
   "metadata": {
    "application/vnd.databricks.v1+cell": {
     "cellMetadata": {
      "byteLimit": 2048000,
      "rowLimit": 10000
     },
     "inputWidgets": {},
     "nuid": "31bbaf90-666b-4173-9a99-c7cfa4e604c2",
     "showTitle": false,
     "title": ""
    }
   },
   "outputs": [],
   "source": [
    "(\n",
    "    sdf_structured\n",
    "    .select(\"*\", \"payments.total_amount\")\n",
    ").limit(5).display()"
   ]
  },
  {
   "cell_type": "markdown",
   "metadata": {
    "application/vnd.databricks.v1+cell": {
     "cellMetadata": {},
     "inputWidgets": {},
     "nuid": "61d92240-d40a-4215-9dd5-ff51219d4035",
     "showTitle": false,
     "title": ""
    }
   },
   "source": [
    "**Task**: Extract contributions from `sdf_structured_arrayed` into individual rows"
   ]
  },
  {
   "cell_type": "code",
   "execution_count": 0,
   "metadata": {
    "application/vnd.databricks.v1+cell": {
     "cellMetadata": {
      "byteLimit": 2048000,
      "rowLimit": 10000
     },
     "inputWidgets": {},
     "nuid": "2841cb5a-5e94-4785-8805-44d9d2095bcc",
     "showTitle": false,
     "title": ""
    }
   },
   "outputs": [],
   "source": [
    "(\n",
    "    sdf_structured_arrayed\n",
    "    .withColumn('payments', F.explode('payments'))\n",
    "    .select(\"*\", \"payments.contributions.*\")\n",
    ").show(5)"
   ]
  },
  {
   "cell_type": "markdown",
   "metadata": {
    "application/vnd.databricks.v1+cell": {
     "cellMetadata": {},
     "inputWidgets": {},
     "nuid": "76996716-ebb5-4018-b7f7-de28cbf4d311",
     "showTitle": false,
     "title": ""
    }
   },
   "source": [
    "# 5. Time"
   ]
  },
  {
   "cell_type": "markdown",
   "metadata": {
    "application/vnd.databricks.v1+cell": {
     "cellMetadata": {},
     "inputWidgets": {},
     "nuid": "e4b3a8c7-786b-42b4-bb36-0ed8adc7db14",
     "showTitle": false,
     "title": ""
    }
   },
   "source": [
    "## 5.1 Format time"
   ]
  },
  {
   "cell_type": "markdown",
   "metadata": {
    "application/vnd.databricks.v1+cell": {
     "cellMetadata": {},
     "inputWidgets": {},
     "nuid": "01ca8198-376e-481c-9e27-a03b54af4588",
     "showTitle": false,
     "title": ""
    }
   },
   "source": [
    "**Example**: keep only the rides that went over at least one night and change pickup and dropoff times to the format like `April 27, 1967`\n",
    "\n",
    "Make sure to exclude the ones traveling back in time (dropped off before picked up)"
   ]
  },
  {
   "cell_type": "code",
   "execution_count": 0,
   "metadata": {
    "application/vnd.databricks.v1+cell": {
     "cellMetadata": {
      "byteLimit": 2048000,
      "rowLimit": 10000
     },
     "inputWidgets": {},
     "nuid": "63b3adf8-65a9-4679-ac09-9f1bd3e9114f",
     "showTitle": false,
     "title": ""
    }
   },
   "outputs": [],
   "source": [
    "(\n",
    "    sdf_trips\n",
    "    .withColumn(\n",
    "        \"date_diff\",\n",
    "        F.datediff('dropoff_datetime', 'pickup_datetime')\n",
    "    )\n",
    "    .filter(F.col(\"date_diff\") > 0)\n",
    "    .withColumn('pickup_date', F.date_format(F.col(\"pickup_datetime\"), 'MMMM d, yyy'))\n",
    "    .withColumn('dropoff_date', F.date_format(F.col(\"dropoff_datetime\"), 'MMMM d, yyy'))\n",
    ").limit(5).display()"
   ]
  },
  {
   "cell_type": "markdown",
   "metadata": {
    "application/vnd.databricks.v1+cell": {
     "cellMetadata": {},
     "inputWidgets": {},
     "nuid": "6e1885e9-a7d8-4e6f-80cb-babd815d570c",
     "showTitle": false,
     "title": ""
    }
   },
   "source": [
    "**Task**: keep only the weekend rides (started on either Saturday or Sunday) and specify which day it was in the corresponding column"
   ]
  },
  {
   "cell_type": "code",
   "execution_count": 0,
   "metadata": {
    "application/vnd.databricks.v1+cell": {
     "cellMetadata": {
      "byteLimit": 2048000,
      "rowLimit": 10000
     },
     "inputWidgets": {},
     "nuid": "b03d391c-5d9c-4025-968b-c89fe6b7f8a5",
     "showTitle": false,
     "title": ""
    }
   },
   "outputs": [],
   "source": [
    "(\n",
    "    sdf_trips\n",
    "    .withColumn(\n",
    "        \"day_of_week\",\n",
    "        F.dayofweek(\"pickup_datetime\")\n",
    "    )\n",
    "    .filter(F.col(\"day_of_week\").isin([1, 7]))\n",
    "    .withColumn(\n",
    "        \"day_of_week\",\n",
    "        F.when(F.col(\"day_of_week\") == 1, F.lit(\"Sunday\"))\n",
    "        .otherwise(F.lit(\"Saturday\"))\n",
    "    )\n",
    "    .select(\"pickup_datetime\", \"day_of_week\")\n",
    "    .sample(0.001)\n",
    ").show(5)"
   ]
  },
  {
   "cell_type": "markdown",
   "metadata": {
    "application/vnd.databricks.v1+cell": {
     "cellMetadata": {},
     "inputWidgets": {},
     "nuid": "f20b246a-0752-4c15-9ec4-81efae3ba429",
     "showTitle": false,
     "title": ""
    }
   },
   "source": [
    "## 5.2 Unix time"
   ]
  },
  {
   "cell_type": "markdown",
   "metadata": {
    "application/vnd.databricks.v1+cell": {
     "cellMetadata": {},
     "inputWidgets": {},
     "nuid": "c2723203-f30b-466f-b2ff-23a0e9da8141",
     "showTitle": false,
     "title": ""
    }
   },
   "source": [
    "**Example**: keep only the rides that ended on the day corresponding to the following unix timestamp `1521552311`"
   ]
  },
  {
   "cell_type": "code",
   "execution_count": 0,
   "metadata": {
    "application/vnd.databricks.v1+cell": {
     "cellMetadata": {
      "byteLimit": 2048000,
      "rowLimit": 10000
     },
     "inputWidgets": {},
     "nuid": "c68c304b-f114-432f-af0c-783706bb4e6c",
     "showTitle": false,
     "title": ""
    }
   },
   "outputs": [],
   "source": [
    "(\n",
    "    sdf_trips\n",
    "    .filter(F.to_date(\"dropoff_datetime\") == F.to_date(F.from_unixtime(F.lit(\"1521552311\"))))\n",
    "    .select(\"dropoff_datetime\", F.to_unix_timestamp(\"pickup_datetime\").alias(\"uts\"))\n",
    "    .sample(0.001)\n",
    ").show(5)"
   ]
  },
  {
   "cell_type": "markdown",
   "metadata": {
    "application/vnd.databricks.v1+cell": {
     "cellMetadata": {},
     "inputWidgets": {},
     "nuid": "b68b1389-98e7-4ecc-8f90-236bedb7315e",
     "showTitle": false,
     "title": ""
    }
   },
   "source": [
    "**Task**: find the date corresponding twice the unix pickup date for each ride"
   ]
  },
  {
   "cell_type": "code",
   "execution_count": 0,
   "metadata": {
    "application/vnd.databricks.v1+cell": {
     "cellMetadata": {
      "byteLimit": 2048000,
      "rowLimit": 10000
     },
     "inputWidgets": {},
     "nuid": "d75bcfa4-1184-4dd7-a055-96f3e66c1e33",
     "showTitle": false,
     "title": ""
    }
   },
   "outputs": [],
   "source": [
    "(\n",
    "    sdf_trips\n",
    "    .withColumn(\n",
    "        \"ts_doubled\",\n",
    "        2*F.unix_timestamp(\"pickup_datetime\")\n",
    "    )\n",
    "    .withColumn(\n",
    "        \"doubled_date\",\n",
    "        F.to_date(F.from_unixtime(F.col(\"ts_doubled\")))\n",
    "    )\n",
    "    .select(\"pickup_datetime\", \"ts_doubled\", \"doubled_date\")\n",
    "    .sample(0.01)\n",
    ").show(5)"
   ]
  },
  {
   "cell_type": "markdown",
   "metadata": {
    "application/vnd.databricks.v1+cell": {
     "cellMetadata": {},
     "inputWidgets": {},
     "nuid": "e83cee34-5486-4516-b5ee-1006df5d8f5e",
     "showTitle": false,
     "title": ""
    }
   },
   "source": [
    "# 6. Drying the code"
   ]
  },
  {
   "cell_type": "markdown",
   "metadata": {
    "application/vnd.databricks.v1+cell": {
     "cellMetadata": {},
     "inputWidgets": {},
     "nuid": "a0292d6a-eb28-4776-a033-c9d1cada3c3d",
     "showTitle": false,
     "title": ""
    }
   },
   "source": [
    "## 6.1 Windows"
   ]
  },
  {
   "cell_type": "markdown",
   "metadata": {
    "application/vnd.databricks.v1+cell": {
     "cellMetadata": {},
     "inputWidgets": {},
     "nuid": "b457be77-3d65-41bb-ad05-7ec493a19545",
     "showTitle": false,
     "title": ""
    }
   },
   "source": [
    "**Example**: rewrite the example in part 3 with window defined in a separate variable"
   ]
  },
  {
   "cell_type": "code",
   "execution_count": 0,
   "metadata": {
    "application/vnd.databricks.v1+cell": {
     "cellMetadata": {
      "byteLimit": 2048000,
      "rowLimit": 10000
     },
     "inputWidgets": {},
     "nuid": "c5d66e25-998f-4761-b57a-7effbe213fdf",
     "showTitle": false,
     "title": ""
    }
   },
   "outputs": [],
   "source": [
    "window_pickup = Window.partitionBy(\"pickup_location_id\").orderBy(F.desc(\"pickup_datetime\"))\n",
    "\n",
    "(\n",
    "    sdf_trips\n",
    "    .withColumn(\"row_number\", F.row_number().over(window_pickup))\n",
    "    .filter(F.col(\"row_number\") < 4)\n",
    ").limit(5).display()"
   ]
  },
  {
   "cell_type": "markdown",
   "metadata": {
    "application/vnd.databricks.v1+cell": {
     "cellMetadata": {},
     "inputWidgets": {},
     "nuid": "09958a00-cea3-4048-acfc-598872a1236e",
     "showTitle": false,
     "title": ""
    }
   },
   "source": [
    "**Task**: rewrite the task from part 3 with window defined in a separate variable\n",
    "\n",
    "**Extra credit**: rewrite the filtering condition as a separate variable"
   ]
  },
  {
   "cell_type": "code",
   "execution_count": 0,
   "metadata": {
    "application/vnd.databricks.v1+cell": {
     "cellMetadata": {
      "byteLimit": 2048000,
      "rowLimit": 10000
     },
     "inputWidgets": {},
     "nuid": "6e3c8586-79fc-4263-a911-e69ae810166f",
     "showTitle": false,
     "title": ""
    }
   },
   "outputs": [],
   "source": [
    "TO_ACCUMULATE = 5\n",
    "window_payment_type = Window.partitionBy(\"payment_type\").orderBy(F.col(\"pickup_datetime\")).rowsBetween(Window.unboundedPreceding, Window.currentRow)\n",
    "limit_cum_mta = F.col(\"cumulative_mta_tax\") <= TO_ACCUMULATE\n",
    "\n",
    "(\n",
    "    sdf_trips\n",
    "    .withColumn(\n",
    "        \"cumulative_mta_tax\",\n",
    "        F.sum(\"mta_tax\")\n",
    "        .over(window_payment_type)\n",
    "    )\n",
    "    .filter(limit_cum_mta)\n",
    "    .groupBy(\"payment_type\")\n",
    "    .agg(\n",
    "        F.count(\"*\").alias(\"trips_count\"),\n",
    "        F.max(\"cumulative_mta_tax\").alias(\"max_cum\")\n",
    "    )\n",
    "    .select(\n",
    "        \"payment_type\",\n",
    "        F.when(F.col(\"max_cum\") >= TO_ACCUMULATE, F.col(\"trips_count\"))\n",
    "        .otherwise(F.lit(None))\n",
    "        .alias(\"trips_count\")\n",
    "    )\n",
    ").show(50)"
   ]
  },
  {
   "cell_type": "markdown",
   "metadata": {
    "application/vnd.databricks.v1+cell": {
     "cellMetadata": {},
     "inputWidgets": {},
     "nuid": "db96fd15-6256-4700-aaad-ad52bb6ecaca",
     "showTitle": false,
     "title": ""
    }
   },
   "source": [
    "## 6.2 Parameterization"
   ]
  },
  {
   "cell_type": "markdown",
   "metadata": {
    "application/vnd.databricks.v1+cell": {
     "cellMetadata": {},
     "inputWidgets": {},
     "nuid": "1f9f52d0-3046-4860-9011-f07864ff3f57",
     "showTitle": false,
     "title": ""
    }
   },
   "source": [
    "**Example**: multiply each of the monetary columns by the number of symbols in the column name and add this value to the column name containing the result"
   ]
  },
  {
   "cell_type": "code",
   "execution_count": 0,
   "metadata": {
    "application/vnd.databricks.v1+cell": {
     "cellMetadata": {
      "byteLimit": 2048000,
      "rowLimit": 10000
     },
     "inputWidgets": {},
     "nuid": "00fc4fe7-3dd5-4ea2-92f3-dfc04621c142",
     "showTitle": false,
     "title": ""
    }
   },
   "outputs": [],
   "source": [
    "(\n",
    "    sdf_trips\n",
    "    .select(\n",
    "        *sdf_trips.columns[:8],\n",
    "        *[(F.col(c)*len(c)).alias(f\"{c} * {len(c)}\") for c in sdf_trips.columns[8:-2]],\n",
    "        *sdf_trips.columns[8:-2],\n",
    "        *sdf_trips.columns[-2:],\n",
    "    )\n",
    ").limit(5).display()"
   ]
  },
  {
   "cell_type": "markdown",
   "metadata": {
    "application/vnd.databricks.v1+cell": {
     "cellMetadata": {},
     "inputWidgets": {},
     "nuid": "a9a1b0cb-a9eb-4a95-a231-9d15a36df93d",
     "showTitle": false,
     "title": ""
    }
   },
   "source": [
    "**Task**: rewrite the example from 5.1 by creating a function that takes the date time column name and returns the formatted output\n",
    "\n",
    "**Extra credit**: make the function work in a loop by providing a list of columns to transform"
   ]
  },
  {
   "cell_type": "code",
   "execution_count": 0,
   "metadata": {
    "application/vnd.databricks.v1+cell": {
     "cellMetadata": {
      "byteLimit": 2048000,
      "rowLimit": 10000
     },
     "inputWidgets": {},
     "nuid": "4a8c0c34-5f7b-42c3-8b9e-ccf870152737",
     "showTitle": false,
     "title": ""
    }
   },
   "outputs": [],
   "source": [
    "def transform_date(col):\n",
    "    return F.date_format(F.col(col), 'MMMM d, yyy')\n",
    "\n",
    "(\n",
    "    sdf_trips\n",
    "    .withColumn(\n",
    "        \"date_diff\",\n",
    "        F.datediff('dropoff_datetime', 'pickup_datetime')\n",
    "    )\n",
    "    .filter(F.col(\"date_diff\") > 0)\n",
    "    .select(\n",
    "        \"*\",\n",
    "        *[transform_date(col).alias(col[:-4])\n",
    "          for col in sdf_trips.columns\n",
    "          if \"datetime\" in col]\n",
    "    )\n",
    ").limit(5).display()"
   ]
  },
  {
   "cell_type": "markdown",
   "metadata": {
    "application/vnd.databricks.v1+cell": {
     "cellMetadata": {},
     "inputWidgets": {},
     "nuid": "14ac9974-6a88-47f2-a9e4-486b86ecefe5",
     "showTitle": false,
     "title": ""
    }
   },
   "source": [
    "# 7. Prototyping"
   ]
  },
  {
   "cell_type": "markdown",
   "metadata": {
    "application/vnd.databricks.v1+cell": {
     "cellMetadata": {},
     "inputWidgets": {},
     "nuid": "c6cb4e11-8709-46b8-b577-f7af6b237ff7",
     "showTitle": false,
     "title": ""
    }
   },
   "source": [
    "## 7.1 Sampling"
   ]
  },
  {
   "cell_type": "markdown",
   "metadata": {
    "application/vnd.databricks.v1+cell": {
     "cellMetadata": {},
     "inputWidgets": {},
     "nuid": "b0b49e58-27b9-46da-ad92-ec874f2a5f50",
     "showTitle": false,
     "title": ""
    }
   },
   "source": [
    "**Example**: calculate the number of combinations of rides such that the drop off location for one is the pick up location for another\n",
    "\n",
    "**Hint**: stop the execution if spent more than 5 minutes waiting and proceed to the following task"
   ]
  },
  {
   "cell_type": "code",
   "execution_count": 0,
   "metadata": {
    "application/vnd.databricks.v1+cell": {
     "cellMetadata": {
      "byteLimit": 2048000,
      "rowLimit": 10000
     },
     "inputWidgets": {},
     "nuid": "2abe147e-b8f9-4f79-ab7f-656334140ae8",
     "showTitle": false,
     "title": ""
    }
   },
   "outputs": [],
   "source": [
    "sdf_pairs = (\n",
    "    sdf_trips\n",
    "    .select(\n",
    "        F.col(\"pickup_location_id\").alias(\"pickup_location_id_a\"),\n",
    "        F.col(\"dropoff_location_id\").alias(\"dropoff_location_id_a\"),\n",
    "        F.col(\"dropoff_location_id\").alias(\"to_join\"),\n",
    "    )\n",
    "    .join(\n",
    "        sdf_trips\n",
    "        .select(\n",
    "            F.col(\"pickup_location_id\").alias(\"pickup_location_id_b\"),\n",
    "            F.col(\"dropoff_location_id\").alias(\"dropoff_location_id_b\"),\n",
    "            F.col(\"pickup_location_id\").alias(\"to_join\"),\n",
    "        ),\n",
    "        on=\"to_join\",\n",
    "        how='inner',\n",
    "    )\n",
    ")"
   ]
  },
  {
   "cell_type": "code",
   "execution_count": 0,
   "metadata": {
    "application/vnd.databricks.v1+cell": {
     "cellMetadata": {},
     "inputWidgets": {},
     "nuid": "6515ce37-4edb-4688-a8c6-4b72ae3f0e71",
     "showTitle": false,
     "title": ""
    }
   },
   "outputs": [],
   "source": [
    "# counting the combinations\n",
    "# print(f\"{sdf_sampled_pairs.count()=:,}\")"
   ]
  },
  {
   "cell_type": "markdown",
   "metadata": {
    "application/vnd.databricks.v1+cell": {
     "cellMetadata": {},
     "inputWidgets": {},
     "nuid": "bcba8068-a28e-40b8-b96d-2b1ff40d4c18",
     "showTitle": false,
     "title": ""
    }
   },
   "source": [
    "**Task**: prototype the code from the example for the 0.1% sample of the rides"
   ]
  },
  {
   "cell_type": "code",
   "execution_count": 0,
   "metadata": {
    "application/vnd.databricks.v1+cell": {
     "cellMetadata": {
      "byteLimit": 2048000,
      "rowLimit": 10000
     },
     "inputWidgets": {},
     "nuid": "617c6951-d8ea-412c-8c5b-9d753ac7c6ce",
     "showTitle": false,
     "title": ""
    }
   },
   "outputs": [],
   "source": [
    "sdf_trips_sample = sdf_trips.sample(0.001)\n",
    "\n",
    "sdf_sampled_pairs = (\n",
    "    sdf_trips_sample\n",
    "    .select(\n",
    "        F.col(\"pickup_location_id\").alias(\"pickup_location_id_a\"),\n",
    "        F.col(\"dropoff_location_id\").alias(\"dropoff_location_id_a\"),\n",
    "        F.col(\"dropoff_location_id\").alias(\"to_join\"),\n",
    "    )\n",
    "    .join(\n",
    "        sdf_trips_sample\n",
    "        .select(\n",
    "            F.col(\"pickup_location_id\").alias(\"pickup_location_id_b\"),\n",
    "            F.col(\"dropoff_location_id\").alias(\"dropoff_location_id_b\"),\n",
    "            F.col(\"pickup_location_id\").alias(\"to_join\"),\n",
    "        ),\n",
    "        on=\"to_join\",\n",
    "        how='inner',\n",
    "    )\n",
    ")\n",
    "\n",
    "print(f\"{sdf_sampled_pairs.count()=:,}\")"
   ]
  },
  {
   "cell_type": "markdown",
   "metadata": {
    "application/vnd.databricks.v1+cell": {
     "cellMetadata": {},
     "inputWidgets": {},
     "nuid": "09773986-614b-4dce-ac04-f2641c0b9a97",
     "showTitle": false,
     "title": ""
    }
   },
   "source": [
    "## 7.2 Saving intermediate results"
   ]
  },
  {
   "cell_type": "markdown",
   "metadata": {
    "application/vnd.databricks.v1+cell": {
     "cellMetadata": {},
     "inputWidgets": {},
     "nuid": "36693530-f6e5-46f1-a22c-20c64194df1b",
     "showTitle": false,
     "title": ""
    }
   },
   "source": [
    "**Example**: For the task in 7.1: save the first 0.1% of rides before joining it to the whole dataset"
   ]
  },
  {
   "cell_type": "code",
   "execution_count": 0,
   "metadata": {
    "application/vnd.databricks.v1+cell": {
     "cellMetadata": {
      "byteLimit": 2048000,
      "rowLimit": 10000
     },
     "inputWidgets": {},
     "nuid": "4e9ea698-f326-456f-b895-f261c9da12a9",
     "showTitle": false,
     "title": ""
    }
   },
   "outputs": [],
   "source": [
    "sdf_trips_sample = sdf_trips.sample(0.001)\n",
    "\n",
    "my_name = \"nicolas_bouvier\"\n",
    "path_to_save = f\"dbfs:/FileStore/tables/{my_name}_sdf_trips_sample\"\n",
    "\n",
    "(\n",
    "    sdf_trips_sample\n",
    "    .write.mode(\"overwrite\")\n",
    "    .option(\"overwriteSchema\", \"True\")\n",
    "    .saveAsTable(f\"sdf_trips_sample_{my_name}\", path=path_to_save)\n",
    ")\n",
    "\n",
    "sdf_trips_saved_sample = spark.read.load(path_to_save)\n"
   ]
  },
  {
   "cell_type": "markdown",
   "metadata": {
    "application/vnd.databricks.v1+cell": {
     "cellMetadata": {},
     "inputWidgets": {},
     "nuid": "93318cfa-30d6-4158-b9ca-e441c7036a7d",
     "showTitle": false,
     "title": ""
    }
   },
   "source": [
    "**Task**: process at least 10 batches of the 0.1% samples to get the corresponding scores"
   ]
  },
  {
   "cell_type": "code",
   "execution_count": 0,
   "metadata": {
    "application/vnd.databricks.v1+cell": {
     "cellMetadata": {},
     "inputWidgets": {},
     "nuid": "eca1f4e0-3f41-4916-b7ba-7eac9b016ef4",
     "showTitle": false,
     "title": ""
    }
   },
   "outputs": [],
   "source": [
    "# TODO"
   ]
  },
  {
   "cell_type": "markdown",
   "metadata": {
    "application/vnd.databricks.v1+cell": {
     "cellMetadata": {},
     "inputWidgets": {},
     "nuid": "f028c2da-f3e8-4297-88ce-f9cccd0b4e27",
     "showTitle": false,
     "title": ""
    }
   },
   "source": [
    "## 7.3 Duck typing"
   ]
  },
  {
   "cell_type": "markdown",
   "metadata": {
    "application/vnd.databricks.v1+cell": {
     "cellMetadata": {},
     "inputWidgets": {},
     "nuid": "7ff1023d-8aa3-4bc6-a62a-a1566898d23e",
     "showTitle": false,
     "title": ""
    }
   },
   "source": [
    "**Example**: make a method `.prc()` applied to a dataframe print row count of that dataframe and test it on `sdf_trips` dataset "
   ]
  },
  {
   "cell_type": "code",
   "execution_count": 0,
   "metadata": {
    "application/vnd.databricks.v1+cell": {
     "cellMetadata": {
      "byteLimit": 2048000,
      "rowLimit": 10000
     },
     "inputWidgets": {},
     "nuid": "9bf0ab17-aa3d-4d42-ac7a-2dfc35bcd0f6",
     "showTitle": false,
     "title": ""
    }
   },
   "outputs": [],
   "source": [
    "from pyspark.sql.dataframe import DataFrame\n",
    "\n",
    "def _prc(self):\n",
    "    print(f\"{self.count():,}\")\n",
    "\n",
    "DataFrame.prc = _prc\n",
    "\n",
    "sdf_trips.prc()"
   ]
  },
  {
   "cell_type": "markdown",
   "metadata": {
    "application/vnd.databricks.v1+cell": {
     "cellMetadata": {},
     "inputWidgets": {},
     "nuid": "79580428-19cd-4a75-b4b3-b7eaf718cc6a",
     "showTitle": false,
     "title": ""
    }
   },
   "source": [
    "**Task**: make `.pvc(col)` applied to a dataframe return another dataframe with row count for each unique entry in the column `col` and test it on `sdf_geo` dataset column `borough`\n",
    "\n",
    "**Extra credit** the dataframe should also contain a column for the percentage of each unique entry"
   ]
  },
  {
   "cell_type": "code",
   "execution_count": 0,
   "metadata": {
    "application/vnd.databricks.v1+cell": {
     "cellMetadata": {
      "byteLimit": 2048000,
      "rowLimit": 10000
     },
     "inputWidgets": {},
     "nuid": "b4bbcd6b-db98-4941-94b4-faa622cc2586",
     "showTitle": false,
     "title": ""
    }
   },
   "outputs": [],
   "source": [
    "def _pvc(self, col):\n",
    "    return (\n",
    "        self\n",
    "        .withColumn('total_count', F.count(\"*\").over(Window.partitionBy(F.lit(1))))\n",
    "        .groupBy(col)\n",
    "        .agg(\n",
    "            F.count(\"*\").alias(\"count\"),\n",
    "            F.format_string('%.1f%%', 100*F.count(\"*\")/F.max('total_count')).alias(\"percentage\"),\n",
    "        )\n",
    "        .sort(F.desc(\"count\"))\n",
    "    )\n",
    "\n",
    "DataFrame.pvc = _pvc\n",
    "\n",
    "sdf_geo.pvc('borough').show()\n"
   ]
  }
 ],
 "metadata": {
  "application/vnd.databricks.v1+notebook": {
   "dashboards": [],
   "environmentMetadata": {
    "base_environment": "",
    "client": "1"
   },
   "language": "python",
   "notebookMetadata": {
    "pythonIndentUnit": 4
   },
   "notebookName": "key_databricks",
   "widgets": {}
  },
  "kernelspec": {
   "display_name": "pyspark_training",
   "language": "python",
   "name": "pyspark_training"
  },
  "language_info": {
   "codemirror_mode": {
    "name": "ipython",
    "version": 3
   },
   "file_extension": ".py",
   "mimetype": "text/x-python",
   "name": "python",
   "nbconvert_exporter": "python",
   "pygments_lexer": "ipython3",
   "version": "3.10.10"
  }
 },
 "nbformat": 4,
 "nbformat_minor": 0
}
